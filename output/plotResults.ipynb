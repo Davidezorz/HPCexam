{
 "cells": [
  {
   "cell_type": "code",
   "execution_count": 43,
   "id": "1b468a47",
   "metadata": {},
   "outputs": [],
   "source": [
    "import re\n",
    "import numpy as np\n",
    "import glob\n",
    "import os\n",
    "import matplotlib.pyplot as plt"
   ]
  },
  {
   "cell_type": "code",
   "execution_count": null,
   "id": "e5b22658",
   "metadata": {},
   "outputs": [],
   "source": [
    "current_dir = os.getcwd()\n",
    "print(f\"Current directory: {current_dir}\")"
   ]
  },
  {
   "cell_type": "code",
   "execution_count": 31,
   "id": "3bfdd496",
   "metadata": {},
   "outputs": [
    {
     "data": {
      "text/plain": [
       "array([ 2,  4, 32,  1, 16,  8, 64])"
      ]
     },
     "execution_count": 31,
     "metadata": {},
     "output_type": "execute_result"
    }
   ],
   "source": [
    "def parse_timings_from_file(filename):\n",
    "    \"\"\"Extract timing values from one file.\"\"\"\n",
    "    timings = []\n",
    "    with open(filename, \"r\") as f:\n",
    "        for line in f:\n",
    "            # match lines like \"time total: 135.405116\"\n",
    "            match = re.search(r\"time .*?:\\s+([\\d\\.Ee+-]+)\", line)\n",
    "            if match:\n",
    "                timings.append(float(match.group(1)))\n",
    "    return timings\n",
    "\n",
    "\n",
    "def collect_data():\n",
    "    # find files named like output${threads}P${P}\n",
    "    files = glob.glob(\"output*P*\")\n",
    "\n",
    "    threads_list = []\n",
    "    all_timings = []\n",
    "\n",
    "    for fname in files:\n",
    "        # extract thread number from filename (between \"output\" and \"P\")\n",
    "        match = re.search(r\"outputT(\\d+)P\", fname)\n",
    "        if not match:\n",
    "            continue\n",
    "        threads = int(match.group(1))\n",
    "\n",
    "        timings = parse_timings_from_file(fname)\n",
    "\n",
    "        threads_list.append(threads)\n",
    "        all_timings.append(timings)\n",
    "\n",
    "    array_T = np.array(threads_list)\n",
    "    array_time = np.array(all_timings)\n",
    "\n",
    "    return array_T, array_time\n",
    "\n",
    "\n",
    "\n",
    "array_T, array_time = collect_data()\n",
    "array_T"
   ]
  },
  {
   "cell_type": "code",
   "execution_count": 32,
   "id": "c8c28a4f",
   "metadata": {},
   "outputs": [
    {
     "data": {
      "text/plain": [
       "array([ 1,  2,  4,  8, 16, 32, 64])"
      ]
     },
     "execution_count": 32,
     "metadata": {},
     "output_type": "execute_result"
    }
   ],
   "source": [
    "idx = np.argsort(array_T)\n",
    "array_T[idx]"
   ]
  },
  {
   "cell_type": "code",
   "execution_count": 42,
   "id": "85b17a91",
   "metadata": {},
   "outputs": [
    {
     "data": {
      "text/plain": [
       "array([[1.35405116e+02, 1.20000000e-04, 1.34419565e+02, 4.00000000e-05,\n",
       "        9.48052000e-01, 3.90000000e-05, 2.77400000e-02, 9.75871000e-01],\n",
       "       [8.20180520e+01, 1.05000000e-04, 8.14710010e+01, 4.70000000e-05,\n",
       "        5.21942000e-01, 3.60000000e-05, 1.81170000e-02, 5.40143000e-01],\n",
       "       [7.23165110e+01, 1.19000000e-04, 7.19744590e+01, 7.00000000e-05,\n",
       "        3.16827000e-01, 3.90000000e-05, 1.92140000e-02, 3.36150000e-01],\n",
       "       [7.26509450e+01, 1.19000000e-04, 7.23778780e+01, 4.60000000e-05,\n",
       "        2.40545000e-01, 3.70000000e-05, 2.51710000e-02, 2.65799000e-01],\n",
       "       [6.45147300e+01, 1.56000000e-04, 6.42721560e+01, 6.40000000e-05,\n",
       "        2.04307000e-01, 3.60000000e-05, 2.93150000e-02, 2.33722000e-01],\n",
       "       [3.24247720e+01, 1.50000000e-04, 3.22658980e+01, 3.70000000e-05,\n",
       "        1.06638000e-01, 3.60000000e-05, 4.03160000e-02, 1.47027000e-01],\n",
       "       [1.64955630e+01, 1.53000000e-04, 1.63675250e+01, 3.60000000e-05,\n",
       "        6.67450000e-02, 3.60000000e-05, 4.08080000e-02, 1.07626000e-01]])"
      ]
     },
     "execution_count": 42,
     "metadata": {},
     "output_type": "execute_result"
    }
   ],
   "source": [
    "array_time[idx]"
   ]
  },
  {
   "cell_type": "code",
   "execution_count": 57,
   "id": "e9ebd83a",
   "metadata": {},
   "outputs": [],
   "source": [
    "from matplotlib.ticker import ScalarFormatter"
   ]
  },
  {
   "cell_type": "code",
   "execution_count": 63,
   "id": "1d2fac32",
   "metadata": {},
   "outputs": [
    {
     "name": "stdout",
     "output_type": "stream",
     "text": [
      "Solarize_Light2\n",
      "_classic_test_patch\n",
      "_mpl-gallery\n",
      "_mpl-gallery-nogrid\n",
      "bmh\n",
      "classic\n",
      "dark_background\n",
      "fast\n",
      "fivethirtyeight\n",
      "ggplot\n",
      "grayscale\n",
      "petroff10\n",
      "seaborn-v0_8\n",
      "seaborn-v0_8-bright\n",
      "seaborn-v0_8-colorblind\n",
      "seaborn-v0_8-dark\n",
      "seaborn-v0_8-dark-palette\n",
      "seaborn-v0_8-darkgrid\n",
      "seaborn-v0_8-deep\n",
      "seaborn-v0_8-muted\n",
      "seaborn-v0_8-notebook\n",
      "seaborn-v0_8-paper\n",
      "seaborn-v0_8-pastel\n",
      "seaborn-v0_8-poster\n",
      "seaborn-v0_8-talk\n",
      "seaborn-v0_8-ticks\n",
      "seaborn-v0_8-white\n",
      "seaborn-v0_8-whitegrid\n",
      "tableau-colorblind10\n"
     ]
    }
   ],
   "source": [
    "for e in plt.style.available:\n",
    "    print(e)"
   ]
  },
  {
   "cell_type": "code",
   "execution_count": null,
   "id": "5363d442",
   "metadata": {},
   "outputs": [],
   "source": [
    "plt.style.use('default') \n",
    "# Set the ultra-minimal style\n",
    "plt.rcParams.update({\n",
    "    'figure.facecolor': 'white',\n",
    "    'axes.facecolor': 'white',\n",
    "    'axes.edgecolor': 'black',\n",
    "    'axes.linewidth': 0.5,\n",
    "\n",
    "    # remove borders\n",
    "    'axes.spines.top': False,\n",
    "    'axes.spines.right': False,\n",
    "    'axes.spines.left': False,\n",
    "    'axes.spines.bottom': False,\n",
    "\n",
    "    # ticks\n",
    "    'xtick.color': 'lightgray',\n",
    "    'ytick.color': 'lightgray',\n",
    "    'xtick.direction': 'out',\n",
    "    'ytick.direction': 'out',\n",
    "\n",
    "    # grid\n",
    "    'axes.grid': True,          # enable grid globally\n",
    "    'grid.color': '#eaeaea',  # very light gray\n",
    "    'grid.linestyle': '-',\n",
    "    'grid.linewidth': 0.5,\n",
    "    'grid.alpha': 1.0,\n",
    "\n",
    "    # lines\n",
    "    'lines.linewidth': 1.0,\n",
    "\n",
    "    # font\n",
    "    'font.size': 10,\n",
    "    'font.family': 'sans-serif',\n",
    "    'text.color': 'gray',   # axis labels, titles, etc.\n",
    "    'axes.labelcolor': 'gray',\n",
    "})\n"
   ]
  },
  {
   "cell_type": "code",
   "execution_count": 94,
   "id": "10166348",
   "metadata": {},
   "outputs": [
    {
     "data": {
      "image/png": "[encoded data removed]",
      "text/plain": [
       "<Figure size 640x480 with 1 Axes>"
      ]
     },
     "metadata": {},
     "output_type": "display_data"
    }
   ],
   "source": [
    "fig, ax = plt.subplots()\n",
    "\n",
    "ax.plot(array_T[idx], array_time[idx][:, 0])\n",
    "ax.set_xscale(\"log\")\n",
    "ax.set_xticks(array_T[idx])\n",
    "ax.get_xaxis().set_major_formatter(ScalarFormatter())\n",
    "\n",
    "plt.show()"
   ]
  }
 ],
 "metadata": {
  "kernelspec": {
   "display_name": ".venv (3.12.3)",
   "language": "python",
   "name": "python3"
  },
  "language_info": {
   "codemirror_mode": {
    "name": "ipython",
    "version": 3
   },
   "file_extension": ".py",
   "mimetype": "text/x-python",
   "name": "python",
   "nbconvert_exporter": "python",
   "pygments_lexer": "ipython3",
   "version": "3.12.3"
  }
 },
 "nbformat": 4,
 "nbformat_minor": 5
}
